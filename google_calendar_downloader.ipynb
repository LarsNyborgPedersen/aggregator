{
 "cells": [
  {
   "cell_type": "markdown",
   "metadata": {},
   "source": [
    "# Google Calendar Events Downloader"
   ]
  },
  {
   "cell_type": "markdown",
   "metadata": {},
   "source": [
    "* Download all of your google calendar events history and export into csv. \n",
    "* For simple data analysis and visualization, see: [google_calendar_data_analysis](https://github.com/markwk/qs_ledger/tree/master/google_calendar/google_calendar_data_analysis.ipynb)"
   ]
  },
  {
   "cell_type": "markdown",
   "metadata": {},
   "source": [
    "----"
   ]
  },
  {
   "cell_type": "markdown",
   "metadata": {},
   "source": [
    "## Google Calendar API Docs\n",
    "\n",
    "* https://developers.google.com/calendar/v3/reference/  \n",
    "* https://developers.google.com/resources/api-libraries/documentation/calendar/v3/python/latest/"
   ]
  },
  {
   "cell_type": "markdown",
   "metadata": {},
   "source": [
    "------"
   ]
  },
  {
   "cell_type": "markdown",
   "metadata": {},
   "source": [
    "# Initial Install and Setup\n",
    "\n",
    "Follow Steps here: https://developers.google.com/calendar/quickstart/python\n",
    "\n",
    "1. Click Button \"ENABLE THE GOOGLE CALENDAR API\"\n",
    "2. Select + Create a new project.\n",
    "3. Download the configuration file.\n",
    "4. Move the downloaded file to your working directory and ensure it is named credentials.json.\n",
    "5. In terminal or command line, navigate to your project's working directory\n",
    "6. Run `python quickstart.py`\n",
    "\n",
    "Afterwards:\n",
    "\n",
    "> The sample will attempt to open a new window or tab in your default browser. If this fails, copy the URL from the console and manually open it in your browser.\n",
    "\n",
    "> If you are not already logged into your Google account, you will be prompted to log in. If you are logged into multiple Google accounts, you will be asked to select one account to use for the authorization.\n",
    "\n",
    "> Click the Accept button.\n",
    "> The sample will proceed automatically, and you may close the window/tab."
   ]
  },
  {
   "cell_type": "markdown",
   "metadata": {},
   "source": [
    "-----"
   ]
  },
  {
   "cell_type": "markdown",
   "metadata": {},
   "source": [
    "## Libraries and Dependencies"
   ]
  },
  {
   "cell_type": "code",
   "execution_count": 1,
   "metadata": {},
   "outputs": [
    {
     "name": "stdout",
     "output_type": "stream",
     "text": [
      "Requirement already satisfied: google-api-python-client in c:\\users\\lars\\appdata\\local\\programs\\python\\python37-32\\lib\\site-packages (1.10.0)\n",
      "Requirement already satisfied: google-auth-httplib2>=0.0.3 in c:\\users\\lars\\appdata\\local\\programs\\python\\python37-32\\lib\\site-packages (from google-api-python-client) (0.0.4)\n",
      "Requirement already satisfied: httplib2<1dev,>=0.9.2 in c:\\users\\lars\\appdata\\local\\programs\\python\\python37-32\\lib\\site-packages (from google-api-python-client) (0.18.1)\n",
      "Requirement already satisfied: six<2dev,>=1.6.1 in c:\\users\\lars\\appdata\\local\\programs\\python\\python37-32\\lib\\site-packages (from google-api-python-client) (1.15.0)\n",
      "Requirement already satisfied: google-auth>=1.16.0 in c:\\users\\lars\\appdata\\local\\programs\\python\\python37-32\\lib\\site-packages (from google-api-python-client) (1.20.1)\n",
      "Requirement already satisfied: google-api-core<2dev,>=1.18.0 in c:\\users\\lars\\appdata\\local\\programs\\python\\python37-32\\lib\\site-packages (from google-api-python-client) (1.22.1)\n",
      "Requirement already satisfied: uritemplate<4dev,>=3.0.0 in c:\\users\\lars\\appdata\\local\\programs\\python\\python37-32\\lib\\site-packages (from google-api-python-client) (3.0.1)\n",
      "Requirement already satisfied: rsa<5,>=3.1.4; python_version >= \"3.5\" in c:\\users\\lars\\appdata\\local\\programs\\python\\python37-32\\lib\\site-packages (from google-auth>=1.16.0->google-api-python-client) (4.6)\n",
      "Requirement already satisfied: pyasn1-modules>=0.2.1 in c:\\users\\lars\\appdata\\local\\programs\\python\\python37-32\\lib\\site-packages (from google-auth>=1.16.0->google-api-python-client) (0.2.8)\n",
      "Requirement already satisfied: setuptools>=40.3.0 in c:\\users\\lars\\appdata\\local\\programs\\python\\python37-32\\lib\\site-packages (from google-auth>=1.16.0->google-api-python-client) (49.6.0)\n",
      "Requirement already satisfied: cachetools<5.0,>=2.0.0 in c:\\users\\lars\\appdata\\local\\programs\\python\\python37-32\\lib\\site-packages (from google-auth>=1.16.0->google-api-python-client) (4.1.1)\n",
      "Requirement already satisfied: pytz in c:\\users\\lars\\appdata\\local\\programs\\python\\python37-32\\lib\\site-packages (from google-api-core<2dev,>=1.18.0->google-api-python-client) (2020.1)\n",
      "Requirement already satisfied: googleapis-common-protos<2.0dev,>=1.6.0 in c:\\users\\lars\\appdata\\local\\programs\\python\\python37-32\\lib\\site-packages (from google-api-core<2dev,>=1.18.0->google-api-python-client) (1.52.0)\n",
      "Requirement already satisfied: protobuf>=3.12.0 in c:\\users\\lars\\appdata\\local\\programs\\python\\python37-32\\lib\\site-packages (from google-api-core<2dev,>=1.18.0->google-api-python-client) (3.13.0)\n",
      "Requirement already satisfied: requests<3.0.0dev,>=2.18.0 in c:\\users\\lars\\appdata\\local\\programs\\python\\python37-32\\lib\\site-packages (from google-api-core<2dev,>=1.18.0->google-api-python-client) (2.24.0)\n",
      "Requirement already satisfied: pyasn1>=0.1.3 in c:\\users\\lars\\appdata\\local\\programs\\python\\python37-32\\lib\\site-packages (from rsa<5,>=3.1.4; python_version >= \"3.5\"->google-auth>=1.16.0->google-api-python-client) (0.4.8)\n",
      "Requirement already satisfied: certifi>=2017.4.17 in c:\\users\\lars\\appdata\\local\\programs\\python\\python37-32\\lib\\site-packages (from requests<3.0.0dev,>=2.18.0->google-api-core<2dev,>=1.18.0->google-api-python-client) (2020.6.20)\n",
      "Requirement already satisfied: chardet<4,>=3.0.2 in c:\\users\\lars\\appdata\\local\\programs\\python\\python37-32\\lib\\site-packages (from requests<3.0.0dev,>=2.18.0->google-api-core<2dev,>=1.18.0->google-api-python-client) (3.0.4)\n",
      "Requirement already satisfied: urllib3!=1.25.0,!=1.25.1,<1.26,>=1.21.1 in c:\\users\\lars\\appdata\\local\\programs\\python\\python37-32\\lib\\site-packages (from requests<3.0.0dev,>=2.18.0->google-api-core<2dev,>=1.18.0->google-api-python-client) (1.25.10)\n",
      "Requirement already satisfied: idna<3,>=2.5 in c:\\users\\lars\\appdata\\local\\programs\\python\\python37-32\\lib\\site-packages (from requests<3.0.0dev,>=2.18.0->google-api-core<2dev,>=1.18.0->google-api-python-client) (2.10)\n",
      "Requirement already satisfied: oauth2client in c:\\users\\lars\\appdata\\local\\programs\\python\\python37-32\\lib\\site-packages (4.1.3)\n",
      "Requirement already satisfied: pyasn1>=0.1.7 in c:\\users\\lars\\appdata\\local\\programs\\python\\python37-32\\lib\\site-packages (from oauth2client) (0.4.8)\n",
      "Requirement already satisfied: pyasn1-modules>=0.0.5 in c:\\users\\lars\\appdata\\local\\programs\\python\\python37-32\\lib\\site-packages (from oauth2client) (0.2.8)\n",
      "Requirement already satisfied: six>=1.6.1 in c:\\users\\lars\\appdata\\local\\programs\\python\\python37-32\\lib\\site-packages (from oauth2client) (1.15.0)\n",
      "Requirement already satisfied: rsa>=3.1.4 in c:\\users\\lars\\appdata\\local\\programs\\python\\python37-32\\lib\\site-packages (from oauth2client) (4.6)\n",
      "Requirement already satisfied: httplib2>=0.9.1 in c:\\users\\lars\\appdata\\local\\programs\\python\\python37-32\\lib\\site-packages (from oauth2client) (0.18.1)\n",
      "Requirement already satisfied: gspread in c:\\users\\lars\\appdata\\local\\programs\\python\\python37-32\\lib\\site-packages (3.6.0)\n",
      "Requirement already satisfied: oauth2client in c:\\users\\lars\\appdata\\local\\programs\\python\\python37-32\\lib\\site-packages (4.1.3)\n",
      "Requirement already satisfied: requests>=2.2.1 in c:\\users\\lars\\appdata\\local\\programs\\python\\python37-32\\lib\\site-packages (from gspread) (2.24.0)\n",
      "Requirement already satisfied: google-auth-oauthlib>=0.4.1 in c:\\users\\lars\\appdata\\local\\programs\\python\\python37-32\\lib\\site-packages (from gspread) (0.4.1)\n",
      "Requirement already satisfied: google-auth>=1.12.0 in c:\\users\\lars\\appdata\\local\\programs\\python\\python37-32\\lib\\site-packages (from gspread) (1.20.1)\n",
      "Requirement already satisfied: six>=1.6.1 in c:\\users\\lars\\appdata\\local\\programs\\python\\python37-32\\lib\\site-packages (from oauth2client) (1.15.0)\n",
      "Requirement already satisfied: pyasn1-modules>=0.0.5 in c:\\users\\lars\\appdata\\local\\programs\\python\\python37-32\\lib\\site-packages (from oauth2client) (0.2.8)\n",
      "Requirement already satisfied: httplib2>=0.9.1 in c:\\users\\lars\\appdata\\local\\programs\\python\\python37-32\\lib\\site-packages (from oauth2client) (0.18.1)\n",
      "Requirement already satisfied: pyasn1>=0.1.7 in c:\\users\\lars\\appdata\\local\\programs\\python\\python37-32\\lib\\site-packages (from oauth2client) (0.4.8)\n",
      "Requirement already satisfied: rsa>=3.1.4 in c:\\users\\lars\\appdata\\local\\programs\\python\\python37-32\\lib\\site-packages (from oauth2client) (4.6)\n",
      "Requirement already satisfied: urllib3!=1.25.0,!=1.25.1,<1.26,>=1.21.1 in c:\\users\\lars\\appdata\\local\\programs\\python\\python37-32\\lib\\site-packages (from requests>=2.2.1->gspread) (1.25.10)\n",
      "Requirement already satisfied: certifi>=2017.4.17 in c:\\users\\lars\\appdata\\local\\programs\\python\\python37-32\\lib\\site-packages (from requests>=2.2.1->gspread) (2020.6.20)\n",
      "Requirement already satisfied: idna<3,>=2.5 in c:\\users\\lars\\appdata\\local\\programs\\python\\python37-32\\lib\\site-packages (from requests>=2.2.1->gspread) (2.10)\n",
      "Requirement already satisfied: chardet<4,>=3.0.2 in c:\\users\\lars\\appdata\\local\\programs\\python\\python37-32\\lib\\site-packages (from requests>=2.2.1->gspread) (3.0.4)\n",
      "Requirement already satisfied: requests-oauthlib>=0.7.0 in c:\\users\\lars\\appdata\\local\\programs\\python\\python37-32\\lib\\site-packages (from google-auth-oauthlib>=0.4.1->gspread) (1.3.0)\n",
      "Requirement already satisfied: setuptools>=40.3.0 in c:\\users\\lars\\appdata\\local\\programs\\python\\python37-32\\lib\\site-packages (from google-auth>=1.12.0->gspread) (49.6.0)\n",
      "Requirement already satisfied: cachetools<5.0,>=2.0.0 in c:\\users\\lars\\appdata\\local\\programs\\python\\python37-32\\lib\\site-packages (from google-auth>=1.12.0->gspread) (4.1.1)\n",
      "Requirement already satisfied: oauthlib>=3.0.0 in c:\\users\\lars\\appdata\\local\\programs\\python\\python37-32\\lib\\site-packages (from requests-oauthlib>=0.7.0->google-auth-oauthlib>=0.4.1->gspread) (3.1.0)\n"
     ]
    }
   ],
   "source": [
    "!pip install google-api-python-client\n",
    "!pip install oauth2client\n",
    "!pip install gspread oauth2client"
   ]
  },
  {
   "cell_type": "code",
   "execution_count": 2,
   "metadata": {},
   "outputs": [
    {
     "name": "stdout",
     "output_type": "stream",
     "text": [
      "Requirement already satisfied: google-api-python-client in c:\\users\\lars\\appdata\\local\\programs\\python\\python37-32\\lib\\site-packages (1.10.0)\n",
      "Requirement already satisfied: google-auth-httplib2>=0.0.3 in c:\\users\\lars\\appdata\\local\\programs\\python\\python37-32\\lib\\site-packages (from google-api-python-client) (0.0.4)\n",
      "Requirement already satisfied: httplib2<1dev,>=0.9.2 in c:\\users\\lars\\appdata\\local\\programs\\python\\python37-32\\lib\\site-packages (from google-api-python-client) (0.18.1)\n",
      "Requirement already satisfied: six<2dev,>=1.6.1 in c:\\users\\lars\\appdata\\local\\programs\\python\\python37-32\\lib\\site-packages (from google-api-python-client) (1.15.0)\n",
      "Requirement already satisfied: google-api-core<2dev,>=1.18.0 in c:\\users\\lars\\appdata\\local\\programs\\python\\python37-32\\lib\\site-packages (from google-api-python-client) (1.22.1)\n",
      "Requirement already satisfied: google-auth>=1.16.0 in c:\\users\\lars\\appdata\\local\\programs\\python\\python37-32\\lib\\site-packages (from google-api-python-client) (1.20.1)\n",
      "Requirement already satisfied: uritemplate<4dev,>=3.0.0 in c:\\users\\lars\\appdata\\local\\programs\\python\\python37-32\\lib\\site-packages (from google-api-python-client) (3.0.1)\n",
      "Requirement already satisfied: googleapis-common-protos<2.0dev,>=1.6.0 in c:\\users\\lars\\appdata\\local\\programs\\python\\python37-32\\lib\\site-packages (from google-api-core<2dev,>=1.18.0->google-api-python-client) (1.52.0)\n",
      "Requirement already satisfied: requests<3.0.0dev,>=2.18.0 in c:\\users\\lars\\appdata\\local\\programs\\python\\python37-32\\lib\\site-packages (from google-api-core<2dev,>=1.18.0->google-api-python-client) (2.24.0)\n",
      "Requirement already satisfied: pytz in c:\\users\\lars\\appdata\\local\\programs\\python\\python37-32\\lib\\site-packages (from google-api-core<2dev,>=1.18.0->google-api-python-client) (2020.1)\n",
      "Requirement already satisfied: protobuf>=3.12.0 in c:\\users\\lars\\appdata\\local\\programs\\python\\python37-32\\lib\\site-packages (from google-api-core<2dev,>=1.18.0->google-api-python-client) (3.13.0)\n",
      "Requirement already satisfied: setuptools>=34.0.0 in c:\\users\\lars\\appdata\\local\\programs\\python\\python37-32\\lib\\site-packages (from google-api-core<2dev,>=1.18.0->google-api-python-client) (49.6.0)\n",
      "Requirement already satisfied: pyasn1-modules>=0.2.1 in c:\\users\\lars\\appdata\\local\\programs\\python\\python37-32\\lib\\site-packages (from google-auth>=1.16.0->google-api-python-client) (0.2.8)\n",
      "Requirement already satisfied: cachetools<5.0,>=2.0.0 in c:\\users\\lars\\appdata\\local\\programs\\python\\python37-32\\lib\\site-packages (from google-auth>=1.16.0->google-api-python-client) (4.1.1)\n",
      "Requirement already satisfied: rsa<5,>=3.1.4; python_version >= \"3.5\" in c:\\users\\lars\\appdata\\local\\programs\\python\\python37-32\\lib\\site-packages (from google-auth>=1.16.0->google-api-python-client) (4.6)\n",
      "Requirement already satisfied: urllib3!=1.25.0,!=1.25.1,<1.26,>=1.21.1 in c:\\users\\lars\\appdata\\local\\programs\\python\\python37-32\\lib\\site-packages (from requests<3.0.0dev,>=2.18.0->google-api-core<2dev,>=1.18.0->google-api-python-client) (1.25.10)\n",
      "Requirement already satisfied: certifi>=2017.4.17 in c:\\users\\lars\\appdata\\local\\programs\\python\\python37-32\\lib\\site-packages (from requests<3.0.0dev,>=2.18.0->google-api-core<2dev,>=1.18.0->google-api-python-client) (2020.6.20)\n",
      "Requirement already satisfied: chardet<4,>=3.0.2 in c:\\users\\lars\\appdata\\local\\programs\\python\\python37-32\\lib\\site-packages (from requests<3.0.0dev,>=2.18.0->google-api-core<2dev,>=1.18.0->google-api-python-client) (3.0.4)\n",
      "Requirement already satisfied: idna<3,>=2.5 in c:\\users\\lars\\appdata\\local\\programs\\python\\python37-32\\lib\\site-packages (from requests<3.0.0dev,>=2.18.0->google-api-core<2dev,>=1.18.0->google-api-python-client) (2.10)\n",
      "Requirement already satisfied: pyasn1<0.5.0,>=0.4.6 in c:\\users\\lars\\appdata\\local\\programs\\python\\python37-32\\lib\\site-packages (from pyasn1-modules>=0.2.1->google-auth>=1.16.0->google-api-python-client) (0.4.8)\n",
      "Requirement already satisfied: oauth2client in c:\\users\\lars\\appdata\\local\\programs\\python\\python37-32\\lib\\site-packages (4.1.3)\n",
      "Requirement already satisfied: pyasn1>=0.1.7 in c:\\users\\lars\\appdata\\local\\programs\\python\\python37-32\\lib\\site-packages (from oauth2client) (0.4.8)\n",
      "Requirement already satisfied: httplib2>=0.9.1 in c:\\users\\lars\\appdata\\local\\programs\\python\\python37-32\\lib\\site-packages (from oauth2client) (0.18.1)\n",
      "Requirement already satisfied: rsa>=3.1.4 in c:\\users\\lars\\appdata\\local\\programs\\python\\python37-32\\lib\\site-packages (from oauth2client) (4.6)\n",
      "Requirement already satisfied: six>=1.6.1 in c:\\users\\lars\\appdata\\local\\programs\\python\\python37-32\\lib\\site-packages (from oauth2client) (1.15.0)\n",
      "Requirement already satisfied: pyasn1-modules>=0.0.5 in c:\\users\\lars\\appdata\\local\\programs\\python\\python37-32\\lib\\site-packages (from oauth2client) (0.2.8)\n",
      "Requirement already satisfied: gspread in c:\\users\\lars\\appdata\\local\\programs\\python\\python37-32\\lib\\site-packages (3.6.0)\n",
      "Requirement already satisfied: oauth2client in c:\\users\\lars\\appdata\\local\\programs\\python\\python37-32\\lib\\site-packages (4.1.3)\n",
      "Requirement already satisfied: google-auth-oauthlib>=0.4.1 in c:\\users\\lars\\appdata\\local\\programs\\python\\python37-32\\lib\\site-packages (from gspread) (0.4.1)\n",
      "Requirement already satisfied: requests>=2.2.1 in c:\\users\\lars\\appdata\\local\\programs\\python\\python37-32\\lib\\site-packages (from gspread) (2.24.0)\n",
      "Requirement already satisfied: google-auth>=1.12.0 in c:\\users\\lars\\appdata\\local\\programs\\python\\python37-32\\lib\\site-packages (from gspread) (1.20.1)\n",
      "Requirement already satisfied: pyasn1-modules>=0.0.5 in c:\\users\\lars\\appdata\\local\\programs\\python\\python37-32\\lib\\site-packages (from oauth2client) (0.2.8)\n",
      "Requirement already satisfied: six>=1.6.1 in c:\\users\\lars\\appdata\\local\\programs\\python\\python37-32\\lib\\site-packages (from oauth2client) (1.15.0)\n",
      "Requirement already satisfied: httplib2>=0.9.1 in c:\\users\\lars\\appdata\\local\\programs\\python\\python37-32\\lib\\site-packages (from oauth2client) (0.18.1)\n",
      "Requirement already satisfied: pyasn1>=0.1.7 in c:\\users\\lars\\appdata\\local\\programs\\python\\python37-32\\lib\\site-packages (from oauth2client) (0.4.8)\n",
      "Requirement already satisfied: rsa>=3.1.4 in c:\\users\\lars\\appdata\\local\\programs\\python\\python37-32\\lib\\site-packages (from oauth2client) (4.6)\n",
      "Requirement already satisfied: requests-oauthlib>=0.7.0 in c:\\users\\lars\\appdata\\local\\programs\\python\\python37-32\\lib\\site-packages (from google-auth-oauthlib>=0.4.1->gspread) (1.3.0)\n",
      "Requirement already satisfied: certifi>=2017.4.17 in c:\\users\\lars\\appdata\\local\\programs\\python\\python37-32\\lib\\site-packages (from requests>=2.2.1->gspread) (2020.6.20)\n",
      "Requirement already satisfied: chardet<4,>=3.0.2 in c:\\users\\lars\\appdata\\local\\programs\\python\\python37-32\\lib\\site-packages (from requests>=2.2.1->gspread) (3.0.4)\n",
      "Requirement already satisfied: idna<3,>=2.5 in c:\\users\\lars\\appdata\\local\\programs\\python\\python37-32\\lib\\site-packages (from requests>=2.2.1->gspread) (2.10)\n",
      "Requirement already satisfied: urllib3!=1.25.0,!=1.25.1,<1.26,>=1.21.1 in c:\\users\\lars\\appdata\\local\\programs\\python\\python37-32\\lib\\site-packages (from requests>=2.2.1->gspread) (1.25.10)\n",
      "Requirement already satisfied: setuptools>=40.3.0 in c:\\users\\lars\\appdata\\local\\programs\\python\\python37-32\\lib\\site-packages (from google-auth>=1.12.0->gspread) (49.6.0)\n",
      "Requirement already satisfied: cachetools<5.0,>=2.0.0 in c:\\users\\lars\\appdata\\local\\programs\\python\\python37-32\\lib\\site-packages (from google-auth>=1.12.0->gspread) (4.1.1)\n",
      "Requirement already satisfied: oauthlib>=3.0.0 in c:\\users\\lars\\appdata\\local\\programs\\python\\python37-32\\lib\\site-packages (from requests-oauthlib>=0.7.0->google-auth-oauthlib>=0.4.1->gspread) (3.1.0)\n"
     ]
    }
   ],
   "source": [
    "!pip install google-api-python-client\n",
    "!pip install oauth2client\n",
    "!pip install gspread oauth2client"
   ]
  },
  {
   "cell_type": "code",
   "execution_count": 3,
   "metadata": {},
   "outputs": [],
   "source": [
    "\n",
    "\n",
    "from __future__ import print_function\n",
    "import datetime\n",
    "from googleapiclient.discovery import build\n",
    "from httplib2 import Http\n",
    "from oauth2client import file, client, tools\n",
    "\n",
    "import pandas as pd\n",
    "import gspread\n",
    "from oauth2client.service_account import ServiceAccountCredentials\n",
    "import time\n"
   ]
  },
  {
   "cell_type": "markdown",
   "metadata": {},
   "source": [
    "----"
   ]
  },
  {
   "cell_type": "markdown",
   "metadata": {},
   "source": [
    "## Authorization Check"
   ]
  },
  {
   "cell_type": "code",
   "execution_count": 4,
   "metadata": {},
   "outputs": [],
   "source": [
    "# If modifying these scopes, delete the file token.json.\n",
    "SCOPES = 'https://www.googleapis.com/auth/calendar.readonly'"
   ]
  },
  {
   "cell_type": "code",
   "execution_count": 5,
   "metadata": {},
   "outputs": [],
   "source": [
    "def authorize():\n",
    "    store = file.Storage('token.json')\n",
    "    creds = store.get()\n",
    "    if not creds or creds.invalid:\n",
    "        flow = client.flow_from_clientsecrets('credentials.json', SCOPES)\n",
    "        creds = tools.run_flow(flow, store)\n",
    "    global service\n",
    "    service = build('calendar', 'v3', http=creds.authorize(Http()))"
   ]
  },
  {
   "cell_type": "code",
   "execution_count": 6,
   "metadata": {},
   "outputs": [],
   "source": [
    "authorize()"
   ]
  },
  {
   "cell_type": "code",
   "execution_count": 7,
   "metadata": {},
   "outputs": [],
   "source": [
    "scopesGoogleSheets = [\"https://spreadsheets.google.com/feeds\",'https://www.googleapis.com/auth/spreadsheets',\"https://www.googleapis.com/auth/drive.file\",\"https://www.googleapis.com/auth/drive\"]"
   ]
  },
  {
   "cell_type": "code",
   "execution_count": 8,
   "metadata": {},
   "outputs": [],
   "source": [
    "#Authorize google sheets\n",
    "creds = ServiceAccountCredentials.from_json_keyfile_name(\"creds.json\", scopesGoogleSheets)\n",
    "\n",
    "client = gspread.authorize(creds)\n",
    "\n",
    "\n",
    "    "
   ]
  },
  {
   "cell_type": "markdown",
   "metadata": {},
   "source": [
    "----"
   ]
  },
  {
   "cell_type": "markdown",
   "metadata": {},
   "source": [
    "## Quick Start Test in Jupyter"
   ]
  },
  {
   "cell_type": "code",
   "execution_count": 9,
   "metadata": {},
   "outputs": [],
   "source": [
    "def test():\n",
    "    \"\"\"Shows basic usage of the Google Calendar API.\n",
    "    Prints the start and name of the next 10 events on the user's calendar.\n",
    "    \"\"\"\n",
    "\n",
    "    authorize()\n",
    "    \n",
    "    # Call the Calendar API\n",
    "    now = datetime.datetime.utcnow().isoformat() + 'Z' # 'Z' indicates UTC time\n",
    "    print('Getting the upcoming 10 events')\n",
    "    events_result = service.events().list(calendarId='primary', timeMin=now,\n",
    "                                        maxResults=10, singleEvents=True,\n",
    "                                        orderBy='startTime').execute()\n",
    "    events = events_result.get('items', [])\n",
    "\n",
    "    if not events:\n",
    "        print('No upcoming events found.')\n",
    "    for event in events:\n",
    "        start = event['start'].get('dateTime', event['start'].get('date'))\n",
    "        print(start, event['summary'])"
   ]
  },
  {
   "cell_type": "code",
   "execution_count": 10,
   "metadata": {},
   "outputs": [
    {
     "name": "stdout",
     "output_type": "stream",
     "text": [
      "Getting the upcoming 10 events\n",
      "2020-09-27T15:45:00+02:00 Shower\n",
      "2020-09-28T15:45:00+02:00 Shower\n",
      "2020-09-29T15:45:00+02:00 Shower\n",
      "2020-09-30T15:45:00+02:00 Shower\n",
      "2020-10-01T15:45:00+02:00 Shower\n",
      "2020-10-02T15:45:00+02:00 Shower\n",
      "2020-10-03T15:45:00+02:00 Shower\n",
      "2020-10-04T15:45:00+02:00 Shower\n",
      "2020-10-05T15:45:00+02:00 Shower\n",
      "2020-10-06T15:45:00+02:00 Shower\n"
     ]
    }
   ],
   "source": [
    "test()"
   ]
  },
  {
   "cell_type": "markdown",
   "metadata": {},
   "source": [
    "----"
   ]
  },
  {
   "cell_type": "markdown",
   "metadata": {},
   "source": [
    "## Get List User Calendars"
   ]
  },
  {
   "cell_type": "code",
   "execution_count": 11,
   "metadata": {},
   "outputs": [
    {
     "name": "stdout",
     "output_type": "stream",
     "text": [
      "Printing Calendar Names...\n",
      "xxguitarsenxx@gmail.com\n",
      "xxguitarsenxx@gmail.com\n",
      "nn6uignfh2hvep45ecvkbc9htg@group.calendar.google.com\n",
      "Music / Guitar\n",
      "n2tm4rta6mkhich6svstnt4bg0@group.calendar.google.com\n",
      "Other work\n",
      "f071lc3i400hesulskq2tbmb08@group.calendar.google.com\n",
      "Free time\n",
      "bm96o9ngs4e1l5j543qiquhl94@group.calendar.google.com\n",
      "Sleep\n",
      "r0r1149ktiu28a03qfg2e76ud0@group.calendar.google.com\n",
      "Study\n",
      "hj8iu2n1vl4mjdekp09phsfgq8@group.calendar.google.com\n",
      "Eat\n",
      "ijv28ivour5u668d0m6eic0c8g@group.calendar.google.com\n",
      "P4\n",
      "jd6vequjbcg3qar3iis7s0ctl5vjjrdm@import.calendar.google.com\n",
      "https://www.moodle.aau.dk/calendar/export_execute.php?userid=76137&authtoken=5dd2d3fd598d609c8b062cfb15d2412c3ec95217&preset_what=all&preset_time=custom\n",
      "hkjg98uhl7l2oa941au5i7u47o@group.calendar.google.com\n",
      "P5 - AStep\n",
      "323o03ja1q6hdm3u7m232e715g@group.calendar.google.com\n",
      "Self improvement\n",
      "coic30en3lkqbpe48lqo574n1s@group.calendar.google.com\n",
      "Rusperioden 2020\n",
      "8u8om17augs6reg5ndeurqhjn8@group.calendar.google.com\n",
      "Social\n",
      "c25c4tqubvr1lp9v28fbbhs7m4@group.calendar.google.com\n",
      "Transport\n",
      "5hbqqk1mhmiiog9rul08cg9quo@group.calendar.google.com\n",
      "Career / Money\n",
      "9hq0ge3o96lcu3v7fhene9cv30@group.calendar.google.com\n",
      "Exercise\n",
      "larsnyborgpedersen@gmail.com\n",
      "Other\n",
      "hf35h1qvf1vhpt0t9ds93mame8@group.calendar.google.com\n",
      "DEADLINES / Reminders\n",
      "addressbook#contacts@group.v.calendar.google.com\n",
      "Contacts\n",
      "da.danish#holiday@group.v.calendar.google.com\n",
      "Helligdage i Danmark\n",
      "e_2_da#weeknum@group.v.calendar.google.com\n",
      "Week Numbers\n"
     ]
    }
   ],
   "source": [
    "calendars_list = service.calendarList().list().execute()\n",
    "calendars_dict = calendars_list.get('items', [])\n",
    "\n",
    "if not calendars_dict:\n",
    "    print('No calendars found.')\n",
    "\n",
    "print(\"Printing Calendar Names...\")\n",
    "\n",
    "calendar_ids = []\n",
    "calenderSummaries = []\n",
    "\n",
    "for calendar in calendars_dict:\n",
    "    print(calendar['id'])\n",
    "    print(calendar['summary'])\n",
    "    # create a list of calendar ids\n",
    "    calendar_ids.append(calendar['id'])\n",
    "    calenderSummaries.append(calendar['summary'])"
   ]
  },
  {
   "cell_type": "code",
   "execution_count": 12,
   "metadata": {},
   "outputs": [
    {
     "name": "stdout",
     "output_type": "stream",
     "text": [
      "You have 21 calendars in this account's Google Calendar\n"
     ]
    }
   ],
   "source": [
    "print(\"You have \" + str(len(calendar_ids)) + \" calendars in this account's Google Calendar\")"
   ]
  },
  {
   "cell_type": "code",
   "execution_count": 13,
   "metadata": {},
   "outputs": [],
   "source": [
    "# dataframing calendars data\n",
    "calendars = pd.DataFrame.from_dict(calendars_dict)"
   ]
  },
  {
   "cell_type": "code",
   "execution_count": 14,
   "metadata": {},
   "outputs": [],
   "source": [
    "calendars.to_csv('data/calendars_list.csv')"
   ]
  },
  {
   "cell_type": "markdown",
   "metadata": {},
   "source": [
    "----"
   ]
  },
  {
   "cell_type": "markdown",
   "metadata": {},
   "source": [
    "## Get Past Events from Calendar"
   ]
  },
  {
   "cell_type": "code",
   "execution_count": 15,
   "metadata": {},
   "outputs": [],
   "source": [
    "def get_calendar_events(calendar_id):\n",
    "    beginning_time = \"2004-01-01T00:00:00.356167Z\"\n",
    "    now = datetime.datetime.utcnow().isoformat() + 'Z' # 'Z' indicates UTC time\n",
    "\n",
    "    page_count = 0\n",
    "    events_list = []\n",
    "\n",
    "    print('Getting all of the past events')\n",
    "\n",
    "    events = service.events()\n",
    "    request = events.list(\n",
    "        #calendarId = 'primary',\n",
    "        calendarId = calendar_id,\n",
    "        timeMin=beginning_time,\n",
    "        timeMax=now,\n",
    "        #maxResults=2500,\n",
    "        maxResults=100000,\n",
    "        singleEvents=True,\n",
    "        # showDeleted=True,\n",
    "        orderBy='updated')\n",
    "\n",
    "    while request is not None:\n",
    "        \n",
    "      page_count = page_count + 1\n",
    "      print(\"Getting \" + str(page_count) + \" page of events...\")\n",
    "      eventsResult = request.execute()\n",
    "\n",
    "      # Do something with the activities\n",
    "      print(len(eventsResult.get('items', [])))\n",
    "      events_list = events_list + list(eventsResult.get('items', []))\n",
    "\n",
    "      request = events.list_next(request, eventsResult)\n",
    "    \n",
    "    return events_list"
   ]
  },
  {
   "cell_type": "code",
   "execution_count": 16,
   "metadata": {},
   "outputs": [],
   "source": [
    "#Give calendars correct names\n",
    "def CalendarName(name):\n",
    "    if name == \"5hbqqk1mhmiiog9rul08cg9quo@group.calendar.google.com\":\n",
    "        return \"Deep work\"\n",
    "    elif name == \"8u8om17augs6reg5ndeurqhjn8@group.calendar.google.com\":\n",
    "        return \"Social\"\n",
    "    elif name == \"9hq0ge3o96lcu3v7fhene9cv30@group.calendar.google.com\":\n",
    "        return \"Training\"\n",
    "    elif name == \"323o03ja1q6hdm3u7m232e715g@group.calendar.google.com\":\n",
    "        return \"Self improvement\"\n",
    "    elif name == \"addressbook#contacts@group.v.calendar.google.com\":\n",
    "        return \"Address book\"\n",
    "    elif name == \"bm96o9ngs4e1l5j543qiquhl94@group.calendar.google.com\":\n",
    "        return \"Sleep\"\n",
    "    elif name == \"c25c4tqubvr1lp9v28fbbhs7m4@group.calendar.google.com\":\n",
    "        return \"Transport\"\n",
    "    elif name == \"coic30en3lkqbpe48lqo574n1s@group.calendar.google.com\":\n",
    "        return \"Tutor?\"\n",
    "    elif name == \"da.danish#holiday@group.v.calendar.google.com\":\n",
    "        return \"Danish holidays\"\n",
    "    elif name == \"e_2_da#weeknum@group.v.calendar.google.com\":\n",
    "        return \"Week numbers\"\n",
    "    elif name == \"f071lc3i400hesulskq2tbmb08@group.calendar.google.com\":\n",
    "        return \"Free time\"\n",
    "    elif name == \"hf35h1qvf1vhpt0t9ds93mame8@group.calendar.google.com\":\n",
    "        return \"Deadlines/Reminders\"\n",
    "    elif name == \"hj8iu2n1vl4mjdekp09phsfgq8@group.calendar.google.com\":\n",
    "        return \"Eating\"\n",
    "    elif name == \"ijv28ivour5u668d0m6eic0c8g@group.calendar.google.com\":\n",
    "        return \"P4\"\n",
    "    elif name == \"jd6vequjbcg3qar3iis7s0ctl5vjjrdm@import.calendar.google.com\":\n",
    "        return \"Moodle\"\n",
    "    elif name == \"larsnyborgpedersen@gmail.com\":\n",
    "        return \"Other\"\n",
    "    elif name == \"n2tm4rta6mkhich6svstnt4bg0@group.calendar.google.com\":\n",
    "        return \"Other work\"\n",
    "    elif name == \"nn6uignfh2hvep45ecvkbc9htg@group.calendar.google.com\":\n",
    "        return \"Guitar\"\n",
    "    elif name == \"r0r1149ktiu28a03qfg2e76ud0@group.calendar.google.com\":\n",
    "        return \"Study\"\n",
    "    elif name == \"xxguitarsenxx@gmail.com\":\n",
    "        return \"xxguitarsenxx\"\n",
    "    else:\n",
    "        return \"Didn't find a calendar!\""
   ]
  },
  {
   "cell_type": "code",
   "execution_count": 22,
   "metadata": {},
   "outputs": [
    {
     "name": "stdout",
     "output_type": "stream",
     "text": [
      "calender_id is: xxguitarsenxx@gmail.com\n",
      "Getting all of the past events\n",
      "Getting 1 page of events...\n",
      "833\n",
      "xxguitarsenxx@gmail.com\n",
      "Number of rows is: 5564!!!!!!!!!!!!!!!!!!!!!!!!\n",
      "calender_id is: nn6uignfh2hvep45ecvkbc9htg@group.calendar.google.com\n",
      "Getting all of the past events\n",
      "Getting 1 page of events...\n",
      "145\n",
      "nn6uignfh2hvep45ecvkbc9htg@group.calendar.google.com\n",
      "Number of rows is: 5564!!!!!!!!!!!!!!!!!!!!!!!!\n",
      "calender_id is: n2tm4rta6mkhich6svstnt4bg0@group.calendar.google.com\n",
      "Getting all of the past events\n",
      "Getting 1 page of events...\n",
      "233\n",
      "n2tm4rta6mkhich6svstnt4bg0@group.calendar.google.com\n",
      "Number of rows is: 5607!!!!!!!!!!!!!!!!!!!!!!!!\n",
      "calender_id is: f071lc3i400hesulskq2tbmb08@group.calendar.google.com\n",
      "Getting all of the past events\n",
      "Getting 1 page of events...\n",
      "426\n",
      "f071lc3i400hesulskq2tbmb08@group.calendar.google.com\n",
      "Number of rows is: 5675!!!!!!!!!!!!!!!!!!!!!!!!\n",
      "calender_id is: bm96o9ngs4e1l5j543qiquhl94@group.calendar.google.com\n",
      "Getting all of the past events\n",
      "Getting 1 page of events...\n",
      "67\n",
      "bm96o9ngs4e1l5j543qiquhl94@group.calendar.google.com\n",
      "Number of rows is: 5754!!!!!!!!!!!!!!!!!!!!!!!!\n",
      "calender_id is: r0r1149ktiu28a03qfg2e76ud0@group.calendar.google.com\n",
      "Getting all of the past events\n",
      "Getting 1 page of events...\n",
      "244\n",
      "r0r1149ktiu28a03qfg2e76ud0@group.calendar.google.com\n",
      "Number of rows is: 5797!!!!!!!!!!!!!!!!!!!!!!!!\n",
      "calender_id is: hj8iu2n1vl4mjdekp09phsfgq8@group.calendar.google.com\n",
      "Getting all of the past events\n",
      "Getting 1 page of events...\n",
      "724\n",
      "hj8iu2n1vl4mjdekp09phsfgq8@group.calendar.google.com\n",
      "Number of rows is: 5841!!!!!!!!!!!!!!!!!!!!!!!!\n",
      "calender_id is: ijv28ivour5u668d0m6eic0c8g@group.calendar.google.com\n",
      "Getting all of the past events\n",
      "Getting 1 page of events...\n",
      "51\n",
      "ijv28ivour5u668d0m6eic0c8g@group.calendar.google.com\n",
      "Number of rows is: 6037!!!!!!!!!!!!!!!!!!!!!!!!\n",
      "calender_id is: jd6vequjbcg3qar3iis7s0ctl5vjjrdm@import.calendar.google.com\n",
      "Getting all of the past events\n",
      "Getting 1 page of events...\n",
      "198\n",
      "jd6vequjbcg3qar3iis7s0ctl5vjjrdm@import.calendar.google.com\n",
      "Number of rows is: 6037!!!!!!!!!!!!!!!!!!!!!!!!\n",
      "calender_id is: hkjg98uhl7l2oa941au5i7u47o@group.calendar.google.com\n",
      "Getting all of the past events\n",
      "Getting 1 page of events...\n",
      "4\n"
     ]
    },
    {
     "ename": "PermissionError",
     "evalue": "[Errno 13] Permission denied: 'data/hkjg98uhl7l2oa941au5i7u47o@group.calendar.google.com.csv'",
     "output_type": "error",
     "traceback": [
      "\u001b[1;31m---------------------------------------------------------------------------\u001b[0m",
      "\u001b[1;31mPermissionError\u001b[0m                           Traceback (most recent call last)",
      "\u001b[1;32m<ipython-input-22-a027d7deb841>\u001b[0m in \u001b[0;36m<module>\u001b[1;34m\u001b[0m\n\u001b[0;32m     18\u001b[0m     \u001b[0mfilename\u001b[0m \u001b[1;33m=\u001b[0m \u001b[0mstr\u001b[0m\u001b[1;33m(\u001b[0m\u001b[0mcalender_id\u001b[0m\u001b[1;33m)\u001b[0m \u001b[1;33m+\u001b[0m \u001b[1;34m\".csv\"\u001b[0m\u001b[1;33m\u001b[0m\u001b[1;33m\u001b[0m\u001b[0m\n\u001b[0;32m     19\u001b[0m     \u001b[0mfilepath\u001b[0m \u001b[1;33m=\u001b[0m \u001b[1;34m'data/'\u001b[0m \u001b[1;33m+\u001b[0m \u001b[0mfilename\u001b[0m\u001b[1;33m\u001b[0m\u001b[1;33m\u001b[0m\u001b[0m\n\u001b[1;32m---> 20\u001b[1;33m     \u001b[0mevent_df\u001b[0m\u001b[1;33m.\u001b[0m\u001b[0mto_csv\u001b[0m\u001b[1;33m(\u001b[0m\u001b[0mfilepath\u001b[0m\u001b[1;33m,\u001b[0m \u001b[0mindex\u001b[0m\u001b[1;33m=\u001b[0m\u001b[1;32mFalse\u001b[0m\u001b[1;33m)\u001b[0m\u001b[1;33m\u001b[0m\u001b[1;33m\u001b[0m\u001b[0m\n\u001b[0m\u001b[0;32m     21\u001b[0m     \u001b[0mprint\u001b[0m\u001b[1;33m(\u001b[0m\u001b[0mcalender_id\u001b[0m\u001b[1;33m)\u001b[0m\u001b[1;33m\u001b[0m\u001b[1;33m\u001b[0m\u001b[0m\n\u001b[0;32m     22\u001b[0m \u001b[1;33m\u001b[0m\u001b[0m\n",
      "\u001b[1;32m~\\AppData\\Local\\Programs\\Python\\Python37-32\\lib\\site-packages\\pandas\\core\\generic.py\u001b[0m in \u001b[0;36mto_csv\u001b[1;34m(self, path_or_buf, sep, na_rep, float_format, columns, header, index, index_label, mode, encoding, compression, quoting, quotechar, line_terminator, chunksize, date_format, doublequote, escapechar, decimal, errors)\u001b[0m\n\u001b[0;32m   3165\u001b[0m             \u001b[0mdecimal\u001b[0m\u001b[1;33m=\u001b[0m\u001b[0mdecimal\u001b[0m\u001b[1;33m,\u001b[0m\u001b[1;33m\u001b[0m\u001b[1;33m\u001b[0m\u001b[0m\n\u001b[0;32m   3166\u001b[0m         )\n\u001b[1;32m-> 3167\u001b[1;33m         \u001b[0mformatter\u001b[0m\u001b[1;33m.\u001b[0m\u001b[0msave\u001b[0m\u001b[1;33m(\u001b[0m\u001b[1;33m)\u001b[0m\u001b[1;33m\u001b[0m\u001b[1;33m\u001b[0m\u001b[0m\n\u001b[0m\u001b[0;32m   3168\u001b[0m \u001b[1;33m\u001b[0m\u001b[0m\n\u001b[0;32m   3169\u001b[0m         \u001b[1;32mif\u001b[0m \u001b[0mpath_or_buf\u001b[0m \u001b[1;32mis\u001b[0m \u001b[1;32mNone\u001b[0m\u001b[1;33m:\u001b[0m\u001b[1;33m\u001b[0m\u001b[1;33m\u001b[0m\u001b[0m\n",
      "\u001b[1;32m~\\AppData\\Local\\Programs\\Python\\Python37-32\\lib\\site-packages\\pandas\\io\\formats\\csvs.py\u001b[0m in \u001b[0;36msave\u001b[1;34m(self)\u001b[0m\n\u001b[0;32m    188\u001b[0m                 \u001b[0mencoding\u001b[0m\u001b[1;33m=\u001b[0m\u001b[0mself\u001b[0m\u001b[1;33m.\u001b[0m\u001b[0mencoding\u001b[0m\u001b[1;33m,\u001b[0m\u001b[1;33m\u001b[0m\u001b[1;33m\u001b[0m\u001b[0m\n\u001b[0;32m    189\u001b[0m                 \u001b[0merrors\u001b[0m\u001b[1;33m=\u001b[0m\u001b[0mself\u001b[0m\u001b[1;33m.\u001b[0m\u001b[0merrors\u001b[0m\u001b[1;33m,\u001b[0m\u001b[1;33m\u001b[0m\u001b[1;33m\u001b[0m\u001b[0m\n\u001b[1;32m--> 190\u001b[1;33m                 \u001b[0mcompression\u001b[0m\u001b[1;33m=\u001b[0m\u001b[0mdict\u001b[0m\u001b[1;33m(\u001b[0m\u001b[0mself\u001b[0m\u001b[1;33m.\u001b[0m\u001b[0mcompression_args\u001b[0m\u001b[1;33m,\u001b[0m \u001b[0mmethod\u001b[0m\u001b[1;33m=\u001b[0m\u001b[0mself\u001b[0m\u001b[1;33m.\u001b[0m\u001b[0mcompression\u001b[0m\u001b[1;33m)\u001b[0m\u001b[1;33m,\u001b[0m\u001b[1;33m\u001b[0m\u001b[1;33m\u001b[0m\u001b[0m\n\u001b[0m\u001b[0;32m    191\u001b[0m             )\n\u001b[0;32m    192\u001b[0m             \u001b[0mclose\u001b[0m \u001b[1;33m=\u001b[0m \u001b[1;32mTrue\u001b[0m\u001b[1;33m\u001b[0m\u001b[1;33m\u001b[0m\u001b[0m\n",
      "\u001b[1;32m~\\AppData\\Local\\Programs\\Python\\Python37-32\\lib\\site-packages\\pandas\\io\\common.py\u001b[0m in \u001b[0;36mget_handle\u001b[1;34m(path_or_buf, mode, encoding, compression, memory_map, is_text, errors)\u001b[0m\n\u001b[0;32m    491\u001b[0m         \u001b[1;32mif\u001b[0m \u001b[0mencoding\u001b[0m\u001b[1;33m:\u001b[0m\u001b[1;33m\u001b[0m\u001b[1;33m\u001b[0m\u001b[0m\n\u001b[0;32m    492\u001b[0m             \u001b[1;31m# Encoding\u001b[0m\u001b[1;33m\u001b[0m\u001b[1;33m\u001b[0m\u001b[1;33m\u001b[0m\u001b[0m\n\u001b[1;32m--> 493\u001b[1;33m             \u001b[0mf\u001b[0m \u001b[1;33m=\u001b[0m \u001b[0mopen\u001b[0m\u001b[1;33m(\u001b[0m\u001b[0mpath_or_buf\u001b[0m\u001b[1;33m,\u001b[0m \u001b[0mmode\u001b[0m\u001b[1;33m,\u001b[0m \u001b[0mencoding\u001b[0m\u001b[1;33m=\u001b[0m\u001b[0mencoding\u001b[0m\u001b[1;33m,\u001b[0m \u001b[0merrors\u001b[0m\u001b[1;33m=\u001b[0m\u001b[0merrors\u001b[0m\u001b[1;33m,\u001b[0m \u001b[0mnewline\u001b[0m\u001b[1;33m=\u001b[0m\u001b[1;34m\"\"\u001b[0m\u001b[1;33m)\u001b[0m\u001b[1;33m\u001b[0m\u001b[1;33m\u001b[0m\u001b[0m\n\u001b[0m\u001b[0;32m    494\u001b[0m         \u001b[1;32melif\u001b[0m \u001b[0mis_text\u001b[0m\u001b[1;33m:\u001b[0m\u001b[1;33m\u001b[0m\u001b[1;33m\u001b[0m\u001b[0m\n\u001b[0;32m    495\u001b[0m             \u001b[1;31m# No explicit encoding\u001b[0m\u001b[1;33m\u001b[0m\u001b[1;33m\u001b[0m\u001b[1;33m\u001b[0m\u001b[0m\n",
      "\u001b[1;31mPermissionError\u001b[0m: [Errno 13] Permission denied: 'data/hkjg98uhl7l2oa941au5i7u47o@group.calendar.google.com.csv'"
     ]
    }
   ],
   "source": [
    "index = 0\n",
    "event_df = []\n",
    "\n",
    "sheet = client.open(\"Google Calendar\").sheet1  # Open the spreadhseet\n",
    "\n",
    "# generate csv of all calendars in google calendar\n",
    "for calender_id in calendar_ids:\n",
    "    print(\"calender_id is: \" + calender_id)\n",
    "    #if calender_id != \"xxguitarsenxx@gmail.com\" and calender_id != \"nn6uignfh2hvep45ecvkbc9htg@group.calendar.google.com\" and calender_id != \"n2tm4rta6mkhich6svstnt4bg0@group.calendar.google.com\" and calender_id != \"f071lc3i400hesulskq2tbmb08@group.calendar.google.com\" and calender_id != \"bm96o9ngs4e1l5j543qiquhl94@group.calendar.google.com\" and calender_id != \"r0r1149ktiu28a03qfg2e76ud0@group.calendar.google.com\" and calender_id != \"hj8iu2n1vl4mjdekp09phsfgq8@group.calendar.google.com\" and calender_id != \"ijv28ivour5u668d0m6eic0c8g@group.calendar.google.com\" and calender_id != \"jd6vequjbcg3qar3iis7s0ctl5vjjrdm@import.calendar.google.com\" and calender_id != \"323o03ja1q6hdm3u7m232e715g@group.calendar.google.com\" and calender_id != \"coic30en3lkqbpe48lqo574n1s@group.calendar.google.com\" and calender_id != \"8u8om17augs6reg5ndeurqhjn8@group.calendar.google.com\" and calender_id != \"c25c4tqubvr1lp9v28fbbhs7m4@group.calendar.google.com\" and calender_id != \"5hbqqk1mhmiiog9rul08cg9quo@group.calendar.google.com\" and calender_id != \"9hq0ge3o96lcu3v7fhene9cv30@group.calendar.google.com\" and calender_id != \"larsnyborgpedersen@gmail.com\" and calender_id != \"hf35h1qvf1vhpt0t9ds93mame8@group.calendar.google.com\": \n",
    "\n",
    "    #Get events\n",
    "    events_list = get_calendar_events(calender_id)\n",
    "    event_df = pd.DataFrame(events_list)\n",
    "\n",
    "\n",
    "\n",
    "    #Make into .CSV file\n",
    "    filename = str(calender_id) + \".csv\"\n",
    "    filepath = 'data/' + filename\n",
    "    event_df.to_csv(filepath, index=False)\n",
    "    print(calender_id)    \n",
    "\n",
    "\n",
    "\n",
    "\n",
    "    numRows = len(sheet.col_values(1))  # Get the number of rows with values in the sheet\n",
    "\n",
    "    print(\"Number of rows is: \" + str(numRows) + \"!!!!!!!!!!!!!!!!!!!!!!!!\")\n",
    "\n",
    "    for eventIndex, row in event_df.iterrows():   \n",
    "        #Extract values\n",
    "        summary = row[7]\n",
    "\n",
    "        #For some reason some of the calendars have more attributes / variables.\n",
    "        if (calender_id == \"larsnyborgpedersen@gmail.com\"):\n",
    "            startString = list(row[12].values())[0]\n",
    "            endString = list(row[13].values())[0]\n",
    "        elif(calender_id == \"addressbook#contacts@group.v.calendar.google.com\") or (calender_id == \"hkjg98uhl7l2oa941au5i7u47o@group.calendar.google.com\") or (calender_id == \"jd6vequjbcg3qar3iis7s0ctl5vjjrdm@import.calendar.google.com\"):\n",
    "            startString = list(row[11].values())[0]\n",
    "            endString = list(row[12].values())[0]\n",
    "        else:\n",
    "            startString = list(row[10].values())[0]\n",
    "            endString = list(row[11].values())[0]\n",
    "\n",
    "        start = pd.to_datetime(startString)\n",
    "        end = pd.to_datetime(endString)\n",
    "\n",
    "        duration = end - start\n",
    "        durationMinutes = duration.total_seconds() / 60\n",
    "        durationMinutes\n",
    "        \n",
    "        #Only transfer if after this date\n",
    "        startDate = pd.to_datetime(startString)\n",
    "        startDate = startDate.tz_localize(None)\n",
    "        afterThisDate = pd.to_datetime(\"15-08-2020\")\n",
    "        \n",
    "        if startDate >= afterThisDate:\n",
    "            sheet.insert_row ([calenderSummaries[calendar_ids.index(calender_id)],summary, startString, endString, durationMinutes], numRows + 1) \n",
    "            numRows = numRows + 1\n",
    "            time.sleep(2.2)\n",
    "\n",
    "\n",
    "    index +=1\n"
   ]
  },
  {
   "cell_type": "code",
   "execution_count": null,
   "metadata": {},
   "outputs": [],
   "source": [
    "CalenderIDs"
   ]
  },
  {
   "cell_type": "code",
   "execution_count": null,
   "metadata": {},
   "outputs": [],
   "source": [
    "### how to\n",
    "#row = sheet.row_values(3)  # Get a specific row\n",
    "#col = sheet.col_values(3)  # Get a specific column\n",
    "#cell = sheet.cell(1,2).value  # Get the value of a specific cell\n",
    "#sheet.update_cell(2,2, \"CHANGED\")  # Update one cell\n",
    "#data = sheet.get_all_records()  # Get a list of all records\n",
    "#insertRow = [\"lars\", 5, \"red\", \"blue\"]\n",
    "    \n",
    "    \n",
    "\n",
    "        \n",
    "\n"
   ]
  },
  {
   "cell_type": "code",
   "execution_count": null,
   "metadata": {},
   "outputs": [],
   "source": [
    "event_df"
   ]
  },
  {
   "cell_type": "code",
   "execution_count": null,
   "metadata": {},
   "outputs": [],
   "source": [
    "\n",
    "events_list\n"
   ]
  },
  {
   "cell_type": "code",
   "execution_count": null,
   "metadata": {},
   "outputs": [],
   "source": []
  },
  {
   "cell_type": "code",
   "execution_count": null,
   "metadata": {},
   "outputs": [],
   "source": []
  },
  {
   "cell_type": "code",
   "execution_count": null,
   "metadata": {},
   "outputs": [],
   "source": []
  },
  {
   "cell_type": "code",
   "execution_count": null,
   "metadata": {},
   "outputs": [],
   "source": []
  },
  {
   "cell_type": "code",
   "execution_count": null,
   "metadata": {},
   "outputs": [],
   "source": []
  },
  {
   "cell_type": "code",
   "execution_count": null,
   "metadata": {},
   "outputs": [],
   "source": []
  },
  {
   "cell_type": "code",
   "execution_count": null,
   "metadata": {},
   "outputs": [],
   "source": []
  },
  {
   "cell_type": "code",
   "execution_count": null,
   "metadata": {},
   "outputs": [],
   "source": []
  },
  {
   "cell_type": "code",
   "execution_count": null,
   "metadata": {},
   "outputs": [],
   "source": []
  },
  {
   "cell_type": "code",
   "execution_count": null,
   "metadata": {},
   "outputs": [],
   "source": []
  }
 ],
 "metadata": {
  "kernelspec": {
   "display_name": "Python 3",
   "language": "python",
   "name": "python3"
  },
  "language_info": {
   "codemirror_mode": {
    "name": "ipython",
    "version": 3
   },
   "file_extension": ".py",
   "mimetype": "text/x-python",
   "name": "python",
   "nbconvert_exporter": "python",
   "pygments_lexer": "ipython3",
   "version": "3.7.3"
  }
 },
 "nbformat": 4,
 "nbformat_minor": 2
}
